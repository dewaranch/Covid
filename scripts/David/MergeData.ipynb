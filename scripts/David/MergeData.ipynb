{
 "cells": [
  {
   "cell_type": "code",
   "execution_count": 35,
   "metadata": {},
   "outputs": [
    {
     "name": "stderr",
     "output_type": "stream",
     "text": [
      "C:\\Users\\sh777\\anaconda3\\lib\\site-packages\\IPython\\core\\interactiveshell.py:3063: DtypeWarning: Columns (3) have mixed types.Specify dtype option on import or set low_memory=False.\n",
      "  interactivity=interactivity, compiler=compiler, result=result)\n"
     ]
    }
   ],
   "source": [
    "\"\"\"\n",
    "\n",
    "Data Source and variable descriptions at https://www.ers.usda.gov/data-products/county-level-data-sets/download-data/\n",
    "\n",
    "\"\"\"\n",
    "\n",
    "import pandas as pd\n",
    "mob_d=pd.read_csv(\"https://raw.githubusercontent.com/dewaranch/Covid/master/raw_data/Global_Mobility_Report_05_01_2020.csv\")\n",
    "FIPS_d=pd.read_csv(\"C:/Users/sh777/Documents/GitHub/Covid/raw_data/David/FIPS.csv\")\n",
    "Edu_d=pd.read_csv(\"C:/Users/sh777/Documents/GitHub/Covid/raw_data/David/Education.csv\")\n",
    "City_d=pd.read_csv(\"C:/Users/sh777/Documents/GitHub/Covid/raw_data/David/City.csv\")\n",
    "Pop_d=pd.read_csv(\"C:/Users/sh777/Documents/GitHub/Covid/raw_data/David/Population.csv\")\n",
    "Pov_d=pd.read_csv(\"C:/Users/sh777/Documents/GitHub/Covid/raw_data/David/Poverty.csv\")\n",
    "    \n",
    "mob_d=mob_d[(mob_d[\"country_region_code\"]==\"US\") & (mob_d[\"sub_region_1\"]) & (mob_d[\"sub_region_2\"])]\n",
    "FIPS_d[\"statey\"]=FIPS_d.iloc[:,3]+FIPS_d.iloc[:,4]\n",
    "mob_d[\"statey\"]=mob_d[\"sub_region_1\"]+mob_d[\"sub_region_2\"]\n",
    "merg_d=mob_d.merge(FIPS_d,on=\"statey\")\n",
    "merg_d=merg_d[['County Subdivision Code (FIPS)','sub_region_1', 'sub_region_2','date', 'retail_and_recreation_percent_change_from_baseline',\n",
    "       'grocery_and_pharmacy_percent_change_from_baseline','parks_percent_change_from_baseline',\n",
    "       'transit_stations_percent_change_from_baseline','workplaces_percent_change_from_baseline',\n",
    "       'residential_percent_change_from_baseline']]\n",
    "merg_d.columns=['FIPS', 'State', 'County','Date', 'Mobility_Retail_and_Recreation',\n",
    "       'Mobility_Grocery_and_Pharmacy','Mobility_Parks',\n",
    "       'Mobility_Transit_Stations','Mobility_Workplaces','Mobility_Residential']\n",
    "\n",
    "Pov_d=Pov_d[['FIPStxt', 'PCTPOVALL_2018', 'PCTPOV017_2018', 'MEDHHINC_2018']]\n",
    "Pov_d.columns=['FIPS','Poverty_Percent','Poverty_Percent_Age0_to_Age17','Poverty_Median_Household_Income']\n",
    "\n",
    "Edu_d=Edu_d[['FIPS', \n",
    "       'Percent of adults with less than a high school diploma, 2014-18',\n",
    "       'Percent of adults with a high school diploma only, 2014-18',\n",
    "       \"Percent of adults completing some college or associate's degree, 2014-18\",\n",
    "       \"Percent of adults with a bachelor's degree or higher, 2014-18\"]]\n",
    "Edu_d.columns=['FIPS',\"Edu_Percent_Less_HS\",\"Edu_Percent_HS\",\"Edu_Percent_AD\",\"Edu_Percent_BD_or_Higher\"]\n",
    "\n",
    "Pop_d=Pop_d[['FIPS', 'POP_ESTIMATE_2018', 'N_POP_CHG_2018', 'Births_2018', 'Deaths_2018',\n",
    "             'INTERNATIONAL_MIG_2018', 'DOMESTIC_MIG_2018']]\n",
    "Pop_d.columns=['FIPS', 'Pop', 'Pop_Change', 'Pop_Birth', 'Pop_Death',\n",
    "             'Pop_Int_Mig_Net', 'Pop_Dom_Mig_Net']\n",
    "\n",
    "City_d=City_d[[\"FIPS code\",\"2013 code\"]]\n",
    "City_d.columns=[\"FIPS\",\"City_Code\"]\n",
    "\n",
    "total_d=merg_d.merge(Pov_d,on=\"FIPS\").merge(Edu_d,on=\"FIPS\").merge(Pop_d,on=\"FIPS\").merge(City_d,on=\"FIPS\")\n",
    "\n",
    "import os\n",
    "os.chdir(\"C:/Users/sh777/Documents/OneDrive/Harvard/SP20/BST 263\")\n",
    "\n",
    "total_d.to_csv(\"Merged.csv\")"
   ]
  }
 ],
 "metadata": {
  "kernelspec": {
   "display_name": "Python 3",
   "language": "python",
   "name": "python3"
  },
  "language_info": {
   "codemirror_mode": {
    "name": "ipython",
    "version": 3
   },
   "file_extension": ".py",
   "mimetype": "text/x-python",
   "name": "python",
   "nbconvert_exporter": "python",
   "pygments_lexer": "ipython3",
   "version": "3.7.6"
  }
 },
 "nbformat": 4,
 "nbformat_minor": 4
}
