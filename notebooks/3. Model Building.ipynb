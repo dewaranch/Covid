{
 "cells": [
  {
   "cell_type": "code",
   "execution_count": 13,
   "metadata": {},
   "outputs": [],
   "source": [
    "from pathlib import Path\n",
    "\n",
    "from sklearn.ensemble import RandomForestRegressor\n",
    "from sklearn import preprocessing\n",
    "import sklearn.metrics as metrics\n",
    "\n",
    "import pandas as pd\n",
    "import numpy as np\n",
    "\n",
    "import matplotlib.pyplot as plt\n",
    "import seaborn as sns\n",
    "\n",
    "DATA = Path('../data/')"
   ]
  },
  {
   "cell_type": "markdown",
   "metadata": {},
   "source": [
    "### Stationary(Median Imp) + Cases and Deaths"
   ]
  },
  {
   "cell_type": "code",
   "execution_count": 2,
   "metadata": {},
   "outputs": [],
   "source": [
    "# Read different feature files\n",
    "stationary_features = pd.read_csv(DATA/'processed/abridged_stationary_features_median_imputed.tsv', sep='\\t')\n",
    "# mobility_features = pd.read_csv(DATA/'processed/mobility_time_varying_features.tsv', sep='\\t')\n",
    "cases_deaths_features = pd.read_csv(DATA/'processed/abridged_time_varying_features.tsv', sep='\\t')\n",
    "# lockdown_features = pd.read_csv(DATA/'processed/abridged_time_based_features.tsv', sep='\\t')"
   ]
  },
  {
   "cell_type": "code",
   "execution_count": 3,
   "metadata": {},
   "outputs": [],
   "source": [
    "# Combine\n",
    "all_features = cases_deaths_features.merge(stationary_features, on='countyFIPS', how='left')\n",
    "# all_features = all_features.merge(lockdown_features, on='countyFIPS', how='left')\n",
    "# all_features = all_features.merge(mobility_features, on=['countyFIPS', 'days_since_first_death'], how='left')"
   ]
  },
  {
   "cell_type": "markdown",
   "metadata": {},
   "source": [
    "#### Predict Deaths in future"
   ]
  },
  {
   "cell_type": "code",
   "execution_count": 4,
   "metadata": {},
   "outputs": [
    {
     "name": "stdout",
     "output_type": "stream",
     "text": [
      "Data from 56 counties will be removed.\n"
     ]
    }
   ],
   "source": [
    "# Remove data points which haven't had at least 4 days since first death\n",
    "num_tspoints = all_features.groupby('countyFIPS').agg({'days_since_first_death': lambda s: len(s)}).iloc[:, 0]\n",
    "counties_to_remove = list(num_tspoints[num_tspoints < 4].index)\n",
    "print(f\"Data from {len(counties_to_remove)} counties will be removed.\")\n",
    "to_keep = ~all_features.countyFIPS.isin(counties_to_remove)\n",
    "all_features = all_features[to_keep].reset_index(drop=True)"
   ]
  },
  {
   "cell_type": "code",
   "execution_count": 5,
   "metadata": {},
   "outputs": [
    {
     "data": {
      "text/plain": [
       "((32654, 141), (32654,), (5724, 141), (5724,))"
      ]
     },
     "execution_count": 5,
     "metadata": {},
     "output_type": "execute_result"
    }
   ],
   "source": [
    "# Split into train and test set\n",
    "all_features.sort_values(['countyFIPS', 'days_since_first_death'], inplace=True)\n",
    "test_indices = [\n",
    "    ind for indlst in \n",
    "    all_features.reset_index().groupby('countyFIPS').agg({'index': lambda s: list(s)[-4:]})['index']\n",
    "    for ind in indlst]\n",
    "\n",
    "# Data\n",
    "X = all_features.drop(['deaths-0', 'cases-0'], axis=1)\n",
    "y = all_features['deaths-0']\n",
    "\n",
    "# Encode labels\n",
    "le = preprocessing.LabelEncoder()\n",
    "for col in X.columns:\n",
    "    if X[col].dtype == 'object':\n",
    "        X[col] = le.fit_transform(X[col])\n",
    "\n",
    "# Test set\n",
    "# For each county, keep the data for the last 4 observed days as test set\n",
    "X_test = X.loc[test_indices].reset_index(drop=True)\n",
    "y_test = y.loc[test_indices].reset_index(drop=True)\n",
    "\n",
    "# Train set\n",
    "X_train = X.drop(test_indices, axis=0).reset_index(drop=True)\n",
    "y_train = y.drop(test_indices, axis=0).reset_index(drop=True)\n",
    "\n",
    "X_train.shape, y_train.shape, X_test.shape, y_test.shape"
   ]
  },
  {
   "cell_type": "markdown",
   "metadata": {},
   "source": [
    "#### Baseline"
   ]
  },
  {
   "cell_type": "code",
   "execution_count": 6,
   "metadata": {},
   "outputs": [
    {
     "data": {
      "text/plain": [
       "RandomForestRegressor(bootstrap=True, ccp_alpha=0.0, criterion='mse',\n",
       "                      max_depth=None, max_features='auto', max_leaf_nodes=None,\n",
       "                      max_samples=None, min_impurity_decrease=0.0,\n",
       "                      min_impurity_split=None, min_samples_leaf=1,\n",
       "                      min_samples_split=2, min_weight_fraction_leaf=0.0,\n",
       "                      n_estimators=100, n_jobs=-1, oob_score=False,\n",
       "                      random_state=None, verbose=0, warm_start=False)"
      ]
     },
     "execution_count": 6,
     "metadata": {},
     "output_type": "execute_result"
    }
   ],
   "source": [
    "rf = RandomForestRegressor(n_jobs=-1)\n",
    "rf.fit(X_train, y_train)"
   ]
  },
  {
   "cell_type": "code",
   "execution_count": 7,
   "metadata": {},
   "outputs": [],
   "source": [
    "y_pred = rf.predict(X_test)"
   ]
  },
  {
   "cell_type": "code",
   "execution_count": 9,
   "metadata": {},
   "outputs": [
    {
     "data": {
      "text/plain": [
       "224.78202562893077"
      ]
     },
     "execution_count": 9,
     "metadata": {},
     "output_type": "execute_result"
    }
   ],
   "source": [
    "metrics.mean_squared_error(y_test, y_pred)"
   ]
  },
  {
   "cell_type": "code",
   "execution_count": 16,
   "metadata": {},
   "outputs": [
    {
     "data": {
      "text/plain": [
       "2.053401467505241"
      ]
     },
     "execution_count": 16,
     "metadata": {},
     "output_type": "execute_result"
    }
   ],
   "source": [
    "metrics.mean_absolute_error(y_test, y_pred)"
   ]
  },
  {
   "cell_type": "code",
   "execution_count": 15,
   "metadata": {},
   "outputs": [
    {
     "data": {
      "text/plain": [
       "Text(0, 0.5, 'predicted')"
      ]
     },
     "execution_count": 15,
     "metadata": {},
     "output_type": "execute_result"
    },
    {
     "data": {
      "image/png": "[encoded data removed]",
      "text/plain": [
       "<Figure size 432x288 with 1 Axes>"
      ]
     },
     "metadata": {
      "needs_background": "light"
     },
     "output_type": "display_data"
    }
   ],
   "source": [
    "sns.lineplot(y_test, y_pred)\n",
    "plt.xlabel('actual')\n",
    "plt.ylabel('predicted')"
   ]
  }
 ],
 "metadata": {
  "kernelspec": {
   "display_name": "py38_covid",
   "language": "python",
   "name": "conda-env-py38_covid-py"
  },
  "language_info": {
   "codemirror_mode": {
    "name": "ipython",
    "version": 3
   },
   "file_extension": ".py",
   "mimetype": "text/x-python",
   "name": "python",
   "nbconvert_exporter": "python",
   "pygments_lexer": "ipython3",
   "version": "3.8.2"
  }
 },
 "nbformat": 4,
 "nbformat_minor": 4
}
