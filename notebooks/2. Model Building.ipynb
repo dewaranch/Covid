{
 "cells": [
  {
   "cell_type": "code",
   "execution_count": 29,
   "metadata": {},
   "outputs": [],
   "source": [
    "from pathlib import Path\n",
    "\n",
    "from sklearn.ensemble import RandomForestRegressor\n",
    "from sklearn import preprocessing\n",
    "import pandas as pd\n",
    "\n",
    "DATA = Path('../data/')"
   ]
  },
  {
   "cell_type": "code",
   "execution_count": 9,
   "metadata": {},
   "outputs": [],
   "source": [
    "# Read different feature files\n",
    "stationary_features = pd.read_csv(DATA/'processed/abridged_stationary_features.tsv', sep='\\t')\n",
    "mobility_features = pd.read_csv(DATA/'processed/mobility_time_varying_features.tsv', sep='\\t')\n",
    "cases_deaths_features = pd.read_csv(DATA/'processed/abridged_time_varying_features.tsv', sep='\\t')\n",
    "lockdown_features = pd.read_csv(DATA/'processed/abridged_time_based_features.tsv', sep='\\t)"
   ]
  },
  {
   "cell_type": "code",
   "execution_count": 21,
   "metadata": {},
   "outputs": [],
   "source": [
    "# Combine\n",
    "all_features = cases_deaths_features.merge(stationary_features, on='countyFIPS', how='left')\n",
    "all_features = all_features.merge(lockdown_features, on='countyFIPS', how='left')\n",
    "all_features = all_features.merge(mobility_features, on=['countyFIPS', 'days_since_first_death'], how='left')"
   ]
  },
  {
   "cell_type": "markdown",
   "metadata": {},
   "source": [
    "### Predict Deaths in future"
   ]
  },
  {
   "cell_type": "code",
   "execution_count": 48,
   "metadata": {},
   "outputs": [],
   "source": [
    "X = all_features.drop(['deaths-0', 'cases-0'], axis=1)\n",
    "y = all_features['deaths-0']"
   ]
  }
 ],
 "metadata": {
  "kernelspec": {
   "display_name": "py38_covid",
   "language": "python",
   "name": "conda-env-py38_covid-py"
  },
  "language_info": {
   "codemirror_mode": {
    "name": "ipython",
    "version": 3
   },
   "file_extension": ".py",
   "mimetype": "text/x-python",
   "name": "python",
   "nbconvert_exporter": "python",
   "pygments_lexer": "ipython3",
   "version": "3.8.2"
  }
 },
 "nbformat": 4,
 "nbformat_minor": 4
}
