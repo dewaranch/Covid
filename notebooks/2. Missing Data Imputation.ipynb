{
 "cells": [
  {
   "cell_type": "code",
   "execution_count": 1,
   "metadata": {},
   "outputs": [],
   "source": [
    "from pathlib import Path\n",
    "\n",
    "from sklearn.ensemble import RandomForestRegressor\n",
    "from sklearn import preprocessing\n",
    "\n",
    "import pandas as pd\n",
    "import numpy as np\n",
    "\n",
    "import matplotlib.pyplot as plt\n",
    "import seaborn as sns\n",
    "\n",
    "DATA = Path('../data/')"
   ]
  },
  {
   "cell_type": "code",
   "execution_count": 2,
   "metadata": {},
   "outputs": [],
   "source": [
    "# Read different feature files\n",
    "stationary_features = pd.read_csv(DATA/'processed/abridged_stationary_features.tsv', sep='\\t', converters={'countyFIPS': str})\n",
    "mobility_features = pd.read_csv(DATA/'processed/mobility_time_varying_features.tsv', sep='\\t')\n",
    "cases_deaths_features = pd.read_csv(DATA/'processed/abridged_time_varying_features.tsv', sep='\\t')\n",
    "lockdown_features = pd.read_csv(DATA/'processed/abridged_time_based_features.tsv', sep='\\t')"
   ]
  },
  {
   "cell_type": "markdown",
   "metadata": {},
   "source": [
    "## Patterns in missing values"
   ]
  },
  {
   "cell_type": "markdown",
   "metadata": {},
   "source": [
    "## Imputation "
   ]
  },
  {
   "cell_type": "markdown",
   "metadata": {},
   "source": [
    "### Stationary features imputation"
   ]
  },
  {
   "cell_type": "code",
   "execution_count": 3,
   "metadata": {},
   "outputs": [],
   "source": [
    "# Drop columns which have too many missing values (>50%)\n",
    "prop_missing = stationary_features.isnull().mean(axis=0)\n",
    "stationary_features.drop(prop_missing[prop_missing > 0.5].index, axis=1, inplace=True)\n",
    "\n",
    "# Drop redundant lat lon column (these have missing values whereas POP ones don't)\n",
    "stationary_features.drop(['lat', 'lon'], axis=1, inplace=True)\n",
    "\n",
    "# Add an indicator if the value is missing\n",
    "missing_indicators = stationary_features.isnull()\n",
    "missing_indicators.columns = ['MISSING_' + col for col in missing_indicators.columns]\n",
    "stationary_features = pd.concat([stationary_features, missing_indicators], axis=1)"
   ]
  },
  {
   "cell_type": "markdown",
   "metadata": {},
   "source": [
    "#### Median Imputation"
   ]
  },
  {
   "cell_type": "code",
   "execution_count": 4,
   "metadata": {},
   "outputs": [],
   "source": [
    "# Calculate state-wise and general median\n",
    "state_median = stationary_features.groupby('StateName').agg(np.nanmedian).T.to_dict()\n",
    "general_median = stationary_features.dropna().median().to_dict()\n",
    "\n",
    "stationary_features_median_imputed = list()\n",
    "for i, row in stationary_features.iterrows():\n",
    "    state = row['StateName']\n",
    "    imputed_row = row.fillna(state_median[state])\n",
    "    \n",
    "    # Some missing values might still be there due to the values being missing for the whole state\n",
    "    # In this case, just impute using the column median\n",
    "    if imputed_row.isna().sum() > 0:\n",
    "        imputed_row = row.fillna(general_median)\n",
    "    \n",
    "    stationary_features_median_imputed.append(imputed_row)\n",
    "    \n",
    "stationary_features_median_imputed = pd.DataFrame(stationary_features_median_imputed)\n",
    "stationary_features_median_imputed.to_csv(DATA/'processed/abridged_stationary_features_median_imputed.tsv',\n",
    "                                          sep='\\t', index=None)"
   ]
  },
  {
   "cell_type": "markdown",
   "metadata": {},
   "source": [
    "### Time varying features imputation"
   ]
  }
 ],
 "metadata": {
  "kernelspec": {
   "display_name": "py38_covid",
   "language": "python",
   "name": "conda-env-py38_covid-py"
  },
  "language_info": {
   "codemirror_mode": {
    "name": "ipython",
    "version": 3
   },
   "file_extension": ".py",
   "mimetype": "text/x-python",
   "name": "python",
   "nbconvert_exporter": "python",
   "pygments_lexer": "ipython3",
   "version": "3.8.2"
  }
 },
 "nbformat": 4,
 "nbformat_minor": 4
}
